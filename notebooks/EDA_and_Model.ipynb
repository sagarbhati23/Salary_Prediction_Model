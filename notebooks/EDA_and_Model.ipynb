{
 "cells": [
  {
   "cell_type": "markdown",
   "id": "474d7dbb",
   "metadata": {},
   "source": [
    "## Cell 1: Salary Prediction Project Introduction"
   ]
  },
  {
   "cell_type": "code",
   "execution_count": null,
   "id": "2b0b97c8",
   "metadata": {},
   "outputs": [],
   "source": [
    "# Salary Prediction Project: EDA and Model Building\n",
    "\n",
    "'''This notebook covers exploratory data analysis, feature engineering, model training, and evaluation for predicting employee salary (CTC) based on profile and experience.'''\n"
   ]
  },
  {
   "cell_type": "markdown",
   "id": "f54aed5b",
   "metadata": {},
   "source": [
    "## Cell 2: Import Required Libraries"
   ]
  },
  {
   "cell_type": "code",
   "execution_count": null,
   "id": "0134e796",
   "metadata": {},
   "outputs": [],
   "source": [
    "import pandas as pd\n",
    "import matplotlib.pyplot as plt\n",
    "import seaborn as sns\n",
    "from sklearn.model_selection import train_test_split\n",
    "from sklearn.preprocessing import OneHotEncoder, StandardScaler\n",
    "from sklearn.compose import ColumnTransformer\n",
    "from sklearn.pipeline import Pipeline\n",
    "from sklearn.linear_model import LinearRegression\n",
    "import os"
   ]
  },
  {
   "cell_type": "markdown",
   "id": "f9104806",
   "metadata": {},
   "source": [
    "## Cell 3: Load Dataset"
   ]
  },
  {
   "cell_type": "code",
   "execution_count": null,
   "id": "52a9ca38",
   "metadata": {},
   "outputs": [],
   "source": [
    "# Load data\n",
    "import os\n",
    "BASE_DIR = os.path.dirname(os.getcwd())\n",
    "DATA_PATH = os.path.join(BASE_DIR, 'data', 'expected_ctc.csv')\n",
    "df = pd.read_csv(DATA_PATH)\n",
    "df.head()"
   ]
  },
  {
   "cell_type": "markdown",
   "id": "fc07a981",
   "metadata": {},
   "source": [
    "## Cell 4: Data Overview and Missing Value Check"
   ]
  },
  {
   "cell_type": "code",
   "execution_count": null,
   "id": "16ad8178",
   "metadata": {},
   "outputs": [],
   "source": [
    "# Data overview\n",
    "print('Data Shape:', df.shape)\n",
    "print('\\nData Sample:')\n",
    "print(df.head())\n",
    "print('\\nMissing Values:')\n",
    "print(df.isnull().sum())"
   ]
  },
  {
   "cell_type": "markdown",
   "id": "2493efee",
   "metadata": {},
   "source": [
    "## Cell 5: Visualize Expected CTC distribution"
   ]
  },
  {
   "cell_type": "code",
   "execution_count": null,
   "id": "e710d20b",
   "metadata": {},
   "outputs": [],
   "source": [
    "plt.figure(figsize=(10, 6))\n",
    "sns.histplot(df['Expected_CTC'], bins=30, kde=True)\n",
    "plt.title('Distribution of Expected CTC')\n",
    "plt.xlabel('Expected CTC')\n",
    "plt.ylabel('Frequency')\n",
    "plt.show()"
   ]
  },
  {
   "cell_type": "markdown",
   "id": "27dd1a9d",
   "metadata": {},
   "source": [
    "## Cell 6: Correlation Heatmap for Numerical Features"
   ]
  },
  {
   "cell_type": "code",
   "execution_count": null,
   "id": "82eae9be",
   "metadata": {},
   "outputs": [],
   "source": [
    "num_features = ['Total_Experience', 'No_Of_Companies_worked', 'Current_CTC', 'Expected_CTC']\n",
    "plt.figure(figsize=(8, 6))\n",
    "sns.heatmap(df[num_features].corr(), annot=True, cmap='coolwarm')\n",
    "plt.title('Correlation Heatmap')\n",
    "plt.show()"
   ]
  },
  {
   "cell_type": "markdown",
   "id": "a3d3ac25",
   "metadata": {},
   "source": [
    "## Cell 7: Feature Selection and Train-Test Split"
   ]
  },
  {
   "cell_type": "code",
   "execution_count": null,
   "id": "5a7a9307",
   "metadata": {},
   "outputs": [],
   "source": [
    "# Feature selection and train-test split\n",
    "features = [\n",
    "    'Industry',\n",
    "    'Department',\n",
    "    'Role',\n",
    "    'Education',\n",
    "    'Total_Experience',\n",
    "    'No_Of_Companies_worked',\n",
    "    'Current_CTC'\n",
    "]\n",
    "target = 'Expected_CTC'\n",
    "\n",
    "X = df[features]\n",
    "y = df[target]\n",
    "X_train, X_test, y_train, y_test = train_test_split(X, y, test_size=0.2, random_state=42)"
   ]
  },
  {
   "cell_type": "markdown",
   "id": "605972b3",
   "metadata": {},
   "source": [
    "## Cell 8: Preprocessing and Pipeline Setup"
   ]
  },
  {
   "cell_type": "code",
   "execution_count": null,
   "id": "34d439a0",
   "metadata": {},
   "outputs": [],
   "source": [
    "categorical_features = ['Industry', 'Department', 'Role', 'Education']\n",
    "numerical_features = ['Total_Experience', 'No_Of_Companies_worked', 'Current_CTC']\n",
    "\n",
    "from sklearn.compose import ColumnTransformer\n",
    "from sklearn.pipeline import Pipeline\n",
    "from sklearn.linear_model import LinearRegression\n",
    "\n",
    "preprocessor = ColumnTransformer([\n",
    "    ('cat', OneHotEncoder(handle_unknown='ignore'), categorical_features),\n",
    "    ('num', StandardScaler(), numerical_features)\n",
    "])\n",
    "\n",
    "model = Pipeline([\n",
    "    ('preprocessor', preprocessor),\n",
    "    ('regressor', LinearRegression())\n",
    "])"
   ]
  },
  {
   "cell_type": "markdown",
   "id": "f3b1ee8a",
   "metadata": {},
   "source": [
    "## Cell 10: Model Training and Evaluation"
   ]
  },
  {
   "cell_type": "code",
   "execution_count": null,
   "id": "af204dbe",
   "metadata": {},
   "outputs": [],
   "source": [
    "# Model training and evaluation\n",
    "model.fit(X_train, y_train)\n",
    "print(\"Model training complete.\")\n",
    "score = model.score(X_test, y_test)\n",
    "print(f\"Test R^2 Score: {score:.4f}\")"
   ]
  },
  {
   "cell_type": "markdown",
   "id": "fafdfa6d",
   "metadata": {},
   "source": [
    "## Summary and Next Steps\n",
    "\n",
    "- Explored and visualized the salary dataset\n",
    "- Built and evaluated a regression model for salary prediction\n",
    "- Next: Tune model, try other algorithms, or deploy for HR use"
   ]
  }
 ],
 "metadata": {
  "kernelspec": {
   "display_name": "Python 3",
   "language": "python",
   "name": "python3"
  },
  "language_info": {
   "codemirror_mode": {
    "name": "ipython",
    "version": 3
   },
   "file_extension": ".py",
   "mimetype": "text/x-python",
   "name": "python",
   "nbconvert_exporter": "python",
   "pygments_lexer": "ipython3",
   "version": "3.13.2"
  }
 },
 "nbformat": 4,
 "nbformat_minor": 5
}
