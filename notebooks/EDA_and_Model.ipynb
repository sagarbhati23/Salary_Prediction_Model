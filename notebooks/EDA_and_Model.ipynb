{
 "cells": [
  {
   "cell_type": "markdown",
   "id": "474d7dbb",
   "metadata": {},
   "source": [
    "## Cell 1: Salary Prediction Project Introduction"
   ]
  },
  {
   "cell_type": "code",
   "execution_count": 5,
   "id": "2b0b97c8",
   "metadata": {},
   "outputs": [
    {
     "data": {
      "text/plain": [
       "'This notebook covers exploratory data analysis, feature engineering, model training, and evaluation for predicting employee salary (CTC) based on profile and experience.'"
      ]
     },
     "execution_count": 5,
     "metadata": {},
     "output_type": "execute_result"
    }
   ],
   "source": [
    "# Salary Prediction Project: EDA and Model Building\n",
    "\n",
    "'''This notebook covers exploratory data analysis, feature engineering, model training, and evaluation for predicting employee salary (CTC) based on profile and experience.'''\n"
   ]
  },
  {
   "cell_type": "markdown",
   "id": "f54aed5b",
   "metadata": {},
   "source": [
    "## Cell 2: Import Required Libraries"
   ]
  },
  {
   "cell_type": "code",
   "execution_count": 6,
   "id": "0134e796",
   "metadata": {},
   "outputs": [],
   "source": [
    "import pandas as pd\n",
    "import matplotlib.pyplot as plt\n",
    "import seaborn as sns\n",
    "from sklearn.model_selection import train_test_split\n",
    "from sklearn.preprocessing import OneHotEncoder, StandardScaler\n",
    "from sklearn.compose import ColumnTransformer\n",
    "from sklearn.pipeline import Pipeline\n",
    "from sklearn.linear_model import LinearRegression\n",
    "import os"
   ]
  },
  {
   "cell_type": "markdown",
   "id": "f9104806",
   "metadata": {},
   "source": [
    "## Cell 3: Load Dataset"
   ]
  },
  {
   "cell_type": "code",
   "execution_count": 9,
   "id": "52a9ca38",
   "metadata": {},
   "outputs": [
    {
     "data": {
      "text/html": [
       "<div>\n",
       "<style scoped>\n",
       "    .dataframe tbody tr th:only-of-type {\n",
       "        vertical-align: middle;\n",
       "    }\n",
       "\n",
       "    .dataframe tbody tr th {\n",
       "        vertical-align: top;\n",
       "    }\n",
       "\n",
       "    .dataframe thead th {\n",
       "        text-align: right;\n",
       "    }\n",
       "</style>\n",
       "<table border=\"1\" class=\"dataframe\">\n",
       "  <thead>\n",
       "    <tr style=\"text-align: right;\">\n",
       "      <th></th>\n",
       "      <th>IDX</th>\n",
       "      <th>Applicant_ID</th>\n",
       "      <th>Total_Experience</th>\n",
       "      <th>Total_Experience_in_field_applied</th>\n",
       "      <th>Department</th>\n",
       "      <th>Role</th>\n",
       "      <th>Industry</th>\n",
       "      <th>Organization</th>\n",
       "      <th>Designation</th>\n",
       "      <th>Education</th>\n",
       "      <th>...</th>\n",
       "      <th>Curent_Location</th>\n",
       "      <th>Preferred_location</th>\n",
       "      <th>Current_CTC</th>\n",
       "      <th>Inhand_Offer</th>\n",
       "      <th>Last_Appraisal_Rating</th>\n",
       "      <th>No_Of_Companies_worked</th>\n",
       "      <th>Number_of_Publications</th>\n",
       "      <th>Certifications</th>\n",
       "      <th>International_degree_any</th>\n",
       "      <th>Expected_CTC</th>\n",
       "    </tr>\n",
       "  </thead>\n",
       "  <tbody>\n",
       "    <tr>\n",
       "      <th>0</th>\n",
       "      <td>1</td>\n",
       "      <td>22753</td>\n",
       "      <td>0</td>\n",
       "      <td>0</td>\n",
       "      <td>NaN</td>\n",
       "      <td>NaN</td>\n",
       "      <td>NaN</td>\n",
       "      <td>NaN</td>\n",
       "      <td>NaN</td>\n",
       "      <td>PG</td>\n",
       "      <td>...</td>\n",
       "      <td>Guwahati</td>\n",
       "      <td>Pune</td>\n",
       "      <td>0</td>\n",
       "      <td>N</td>\n",
       "      <td>NaN</td>\n",
       "      <td>0</td>\n",
       "      <td>0</td>\n",
       "      <td>0</td>\n",
       "      <td>0</td>\n",
       "      <td>384551</td>\n",
       "    </tr>\n",
       "    <tr>\n",
       "      <th>1</th>\n",
       "      <td>2</td>\n",
       "      <td>51087</td>\n",
       "      <td>23</td>\n",
       "      <td>14</td>\n",
       "      <td>HR</td>\n",
       "      <td>Consultant</td>\n",
       "      <td>Analytics</td>\n",
       "      <td>H</td>\n",
       "      <td>HR</td>\n",
       "      <td>Doctorate</td>\n",
       "      <td>...</td>\n",
       "      <td>Bangalore</td>\n",
       "      <td>Nagpur</td>\n",
       "      <td>2702664</td>\n",
       "      <td>Y</td>\n",
       "      <td>Key_Performer</td>\n",
       "      <td>2</td>\n",
       "      <td>4</td>\n",
       "      <td>0</td>\n",
       "      <td>0</td>\n",
       "      <td>3783729</td>\n",
       "    </tr>\n",
       "    <tr>\n",
       "      <th>2</th>\n",
       "      <td>3</td>\n",
       "      <td>38413</td>\n",
       "      <td>21</td>\n",
       "      <td>12</td>\n",
       "      <td>Top Management</td>\n",
       "      <td>Consultant</td>\n",
       "      <td>Training</td>\n",
       "      <td>J</td>\n",
       "      <td>NaN</td>\n",
       "      <td>Doctorate</td>\n",
       "      <td>...</td>\n",
       "      <td>Ahmedabad</td>\n",
       "      <td>Jaipur</td>\n",
       "      <td>2236661</td>\n",
       "      <td>Y</td>\n",
       "      <td>Key_Performer</td>\n",
       "      <td>5</td>\n",
       "      <td>3</td>\n",
       "      <td>0</td>\n",
       "      <td>0</td>\n",
       "      <td>3131325</td>\n",
       "    </tr>\n",
       "    <tr>\n",
       "      <th>3</th>\n",
       "      <td>4</td>\n",
       "      <td>11501</td>\n",
       "      <td>15</td>\n",
       "      <td>8</td>\n",
       "      <td>Banking</td>\n",
       "      <td>Financial Analyst</td>\n",
       "      <td>Aviation</td>\n",
       "      <td>F</td>\n",
       "      <td>HR</td>\n",
       "      <td>Doctorate</td>\n",
       "      <td>...</td>\n",
       "      <td>Kanpur</td>\n",
       "      <td>Kolkata</td>\n",
       "      <td>2100510</td>\n",
       "      <td>N</td>\n",
       "      <td>C</td>\n",
       "      <td>5</td>\n",
       "      <td>3</td>\n",
       "      <td>0</td>\n",
       "      <td>0</td>\n",
       "      <td>2608833</td>\n",
       "    </tr>\n",
       "    <tr>\n",
       "      <th>4</th>\n",
       "      <td>5</td>\n",
       "      <td>58941</td>\n",
       "      <td>10</td>\n",
       "      <td>5</td>\n",
       "      <td>Sales</td>\n",
       "      <td>Project Manager</td>\n",
       "      <td>Insurance</td>\n",
       "      <td>E</td>\n",
       "      <td>Medical Officer</td>\n",
       "      <td>Grad</td>\n",
       "      <td>...</td>\n",
       "      <td>Ahmedabad</td>\n",
       "      <td>Ahmedabad</td>\n",
       "      <td>1931644</td>\n",
       "      <td>N</td>\n",
       "      <td>C</td>\n",
       "      <td>2</td>\n",
       "      <td>3</td>\n",
       "      <td>0</td>\n",
       "      <td>0</td>\n",
       "      <td>2221390</td>\n",
       "    </tr>\n",
       "  </tbody>\n",
       "</table>\n",
       "<p>5 rows × 29 columns</p>\n",
       "</div>"
      ],
      "text/plain": [
       "   IDX  Applicant_ID  Total_Experience  Total_Experience_in_field_applied  \\\n",
       "0    1         22753                 0                                  0   \n",
       "1    2         51087                23                                 14   \n",
       "2    3         38413                21                                 12   \n",
       "3    4         11501                15                                  8   \n",
       "4    5         58941                10                                  5   \n",
       "\n",
       "       Department               Role   Industry Organization      Designation  \\\n",
       "0             NaN                NaN        NaN          NaN              NaN   \n",
       "1              HR         Consultant  Analytics            H               HR   \n",
       "2  Top Management         Consultant   Training            J              NaN   \n",
       "3         Banking  Financial Analyst   Aviation            F               HR   \n",
       "4           Sales    Project Manager  Insurance            E  Medical Officer   \n",
       "\n",
       "   Education  ... Curent_Location Preferred_location  Current_CTC  \\\n",
       "0         PG  ...        Guwahati               Pune            0   \n",
       "1  Doctorate  ...       Bangalore             Nagpur      2702664   \n",
       "2  Doctorate  ...       Ahmedabad             Jaipur      2236661   \n",
       "3  Doctorate  ...          Kanpur            Kolkata      2100510   \n",
       "4       Grad  ...       Ahmedabad          Ahmedabad      1931644   \n",
       "\n",
       "  Inhand_Offer Last_Appraisal_Rating  No_Of_Companies_worked  \\\n",
       "0            N                   NaN                       0   \n",
       "1            Y         Key_Performer                       2   \n",
       "2            Y         Key_Performer                       5   \n",
       "3            N                     C                       5   \n",
       "4            N                     C                       2   \n",
       "\n",
       "  Number_of_Publications Certifications  International_degree_any Expected_CTC  \n",
       "0                      0              0                         0       384551  \n",
       "1                      4              0                         0      3783729  \n",
       "2                      3              0                         0      3131325  \n",
       "3                      3              0                         0      2608833  \n",
       "4                      3              0                         0      2221390  \n",
       "\n",
       "[5 rows x 29 columns]"
      ]
     },
     "execution_count": 9,
     "metadata": {},
     "output_type": "execute_result"
    }
   ],
   "source": [
    "# Load data\n",
    "import os\n",
    "BASE_DIR = os.path.dirname(os.getcwd())\n",
    "DATA_PATH = os.path.join(BASE_DIR, 'data', 'expected_ctc.csv')\n",
    "df = pd.read_csv(DATA_PATH)\n",
    "df.head()"
   ]
  },
  {
   "cell_type": "markdown",
   "id": "fc07a981",
   "metadata": {},
   "source": [
    "## Cell 4: Data Overview and Missing Value Check"
   ]
  },
  {
   "cell_type": "code",
   "execution_count": 10,
   "id": "16ad8178",
   "metadata": {},
   "outputs": [
    {
     "name": "stdout",
     "output_type": "stream",
     "text": [
      "Data Shape: (25000, 29)\n",
      "\n",
      "Data Sample:\n",
      "   IDX  Applicant_ID  Total_Experience  Total_Experience_in_field_applied  \\\n",
      "0    1         22753                 0                                  0   \n",
      "1    2         51087                23                                 14   \n",
      "2    3         38413                21                                 12   \n",
      "3    4         11501                15                                  8   \n",
      "4    5         58941                10                                  5   \n",
      "\n",
      "       Department               Role   Industry Organization      Designation  \\\n",
      "0             NaN                NaN        NaN          NaN              NaN   \n",
      "1              HR         Consultant  Analytics            H               HR   \n",
      "2  Top Management         Consultant   Training            J              NaN   \n",
      "3         Banking  Financial Analyst   Aviation            F               HR   \n",
      "4           Sales    Project Manager  Insurance            E  Medical Officer   \n",
      "\n",
      "   Education  ... Curent_Location Preferred_location  Current_CTC  \\\n",
      "0         PG  ...        Guwahati               Pune            0   \n",
      "1  Doctorate  ...       Bangalore             Nagpur      2702664   \n",
      "2  Doctorate  ...       Ahmedabad             Jaipur      2236661   \n",
      "3  Doctorate  ...          Kanpur            Kolkata      2100510   \n",
      "4       Grad  ...       Ahmedabad          Ahmedabad      1931644   \n",
      "\n",
      "  Inhand_Offer Last_Appraisal_Rating  No_Of_Companies_worked  \\\n",
      "0            N                   NaN                       0   \n",
      "1            Y         Key_Performer                       2   \n",
      "2            Y         Key_Performer                       5   \n",
      "3            N                     C                       5   \n",
      "4            N                     C                       2   \n",
      "\n",
      "  Number_of_Publications Certifications  International_degree_any Expected_CTC  \n",
      "0                      0              0                         0       384551  \n",
      "1                      4              0                         0      3783729  \n",
      "2                      3              0                         0      3131325  \n",
      "3                      3              0                         0      2608833  \n",
      "4                      3              0                         0      2221390  \n",
      "\n",
      "[5 rows x 29 columns]\n",
      "\n",
      "Missing Values:\n",
      "IDX                                      0\n",
      "Applicant_ID                             0\n",
      "Total_Experience                         0\n",
      "Total_Experience_in_field_applied        0\n",
      "Department                            2778\n",
      "Role                                   963\n",
      "Industry                               908\n",
      "Organization                           908\n",
      "Designation                           3129\n",
      "Education                                0\n",
      "Graduation_Specialization             6180\n",
      "University_Grad                       6180\n",
      "Passing_Year_Of_Graduation            6180\n",
      "PG_Specialization                     7692\n",
      "University_PG                         7692\n",
      "Passing_Year_Of_PG                    7692\n",
      "PHD_Specialization                   11881\n",
      "University_PHD                       11881\n",
      "Passing_Year_Of_PHD                  11881\n",
      "Curent_Location                          0\n",
      "Preferred_location                       0\n",
      "Current_CTC                              0\n",
      "Inhand_Offer                             0\n",
      "Last_Appraisal_Rating                  908\n",
      "No_Of_Companies_worked                   0\n",
      "Number_of_Publications                   0\n",
      "Certifications                           0\n",
      "International_degree_any                 0\n",
      "Expected_CTC                             0\n",
      "dtype: int64\n"
     ]
    }
   ],
   "source": [
    "# Data overview\n",
    "print('Data Shape:', df.shape)\n",
    "print('\\nData Sample:')\n",
    "print(df.head())\n",
    "print('\\nMissing Values:')\n",
    "print(df.isnull().sum())"
   ]
  },
  {
   "cell_type": "markdown",
   "id": "2493efee",
   "metadata": {},
   "source": [
    "## Cell 5: Visualize Expected CTC distribution"
   ]
  },
  {
   "cell_type": "code",
   "execution_count": 11,
   "id": "e710d20b",
   "metadata": {},
   "outputs": [
    {
     "data": {
      "image/png": "[encoded data removed]",
      "text/plain": [
       "<Figure size 1000x600 with 1 Axes>"
      ]
     },
     "metadata": {},
     "output_type": "display_data"
    }
   ],
   "source": [
    "plt.figure(figsize=(10, 6))\n",
    "sns.histplot(df['Expected_CTC'], bins=30, kde=True)\n",
    "plt.title('Distribution of Expected CTC')\n",
    "plt.xlabel('Expected CTC')\n",
    "plt.ylabel('Frequency')\n",
    "plt.show()"
   ]
  },
  {
   "cell_type": "markdown",
   "id": "27dd1a9d",
   "metadata": {},
   "source": [
    "## Cell 6: Correlation Heatmap for Numerical Features"
   ]
  },
  {
   "cell_type": "code",
   "execution_count": 12,
   "id": "82eae9be",
   "metadata": {},
   "outputs": [
    {
     "data": {
      "image/png": "[encoded data removed]",
      "text/plain": [
       "<Figure size 800x600 with 2 Axes>"
      ]
     },
     "metadata": {},
     "output_type": "display_data"
    }
   ],
   "source": [
    "num_features = ['Total_Experience', 'No_Of_Companies_worked', 'Current_CTC', 'Expected_CTC']\n",
    "plt.figure(figsize=(8, 6))\n",
    "sns.heatmap(df[num_features].corr(), annot=True, cmap='coolwarm')\n",
    "plt.title('Correlation Heatmap')\n",
    "plt.show()"
   ]
  },
  {
   "cell_type": "markdown",
   "id": "a3d3ac25",
   "metadata": {},
   "source": [
    "## Cell 7: Feature Selection and Train-Test Split"
   ]
  },
  {
   "cell_type": "code",
   "execution_count": 13,
   "id": "5a7a9307",
   "metadata": {},
   "outputs": [],
   "source": [
    "# Feature selection and train-test split\n",
    "features = [\n",
    "    'Industry',\n",
    "    'Department',\n",
    "    'Role',\n",
    "    'Education',\n",
    "    'Total_Experience',\n",
    "    'No_Of_Companies_worked',\n",
    "    'Current_CTC'\n",
    "]\n",
    "target = 'Expected_CTC'\n",
    "\n",
    "X = df[features]\n",
    "y = df[target]\n",
    "X_train, X_test, y_train, y_test = train_test_split(X, y, test_size=0.2, random_state=42)"
   ]
  },
  {
   "cell_type": "markdown",
   "id": "605972b3",
   "metadata": {},
   "source": [
    "## Cell 8: Preprocessing and Pipeline Setup"
   ]
  },
  {
   "cell_type": "code",
   "execution_count": 14,
   "id": "34d439a0",
   "metadata": {},
   "outputs": [],
   "source": [
    "categorical_features = ['Industry', 'Department', 'Role', 'Education']\n",
    "numerical_features = ['Total_Experience', 'No_Of_Companies_worked', 'Current_CTC']\n",
    "\n",
    "from sklearn.compose import ColumnTransformer\n",
    "from sklearn.pipeline import Pipeline\n",
    "from sklearn.linear_model import LinearRegression\n",
    "\n",
    "preprocessor = ColumnTransformer([\n",
    "    ('cat', OneHotEncoder(handle_unknown='ignore'), categorical_features),\n",
    "    ('num', StandardScaler(), numerical_features)\n",
    "])\n",
    "\n",
    "model = Pipeline([\n",
    "    ('preprocessor', preprocessor),\n",
    "    ('regressor', LinearRegression())\n",
    "])"
   ]
  },
  {
   "cell_type": "markdown",
   "id": "f3b1ee8a",
   "metadata": {},
   "source": [
    "## Cell 10: Model Training and Evaluation"
   ]
  },
  {
   "cell_type": "code",
   "execution_count": 15,
   "id": "af204dbe",
   "metadata": {},
   "outputs": [
    {
     "name": "stdout",
     "output_type": "stream",
     "text": [
      "Model training complete.\n",
      "Test R^2 Score: 0.9874\n"
     ]
    }
   ],
   "source": [
    "# Model training and evaluation\n",
    "model.fit(X_train, y_train)\n",
    "print(\"Model training complete.\")\n",
    "score = model.score(X_test, y_test)\n",
    "print(f\"Test R^2 Score: {score:.4f}\")"
   ]
  },
  {
   "cell_type": "markdown",
   "id": "fafdfa6d",
   "metadata": {},
   "source": [
    "## Summary and Next Steps\n",
    "\n",
    "- Explored and visualized the salary dataset\n",
    "- Built and evaluated a regression model for salary prediction\n",
    "- Next: Tune model, try other algorithms, or deploy for HR use"
   ]
  }
 ],
 "metadata": {
  "kernelspec": {
   "display_name": "Python 3",
   "language": "python",
   "name": "python3"
  },
  "language_info": {
   "codemirror_mode": {
    "name": "ipython",
    "version": 3
   },
   "file_extension": ".py",
   "mimetype": "text/x-python",
   "name": "python",
   "nbconvert_exporter": "python",
   "pygments_lexer": "ipython3",
   "version": "3.13.2"
  }
 },
 "nbformat": 4,
 "nbformat_minor": 5
}
